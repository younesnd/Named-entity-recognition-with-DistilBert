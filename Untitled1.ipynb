{
 "cells": [
  {
   "cell_type": "code",
   "execution_count": 1,
   "id": "closed-conjunction",
   "metadata": {
    "ExecuteTime": {
     "end_time": "2021-02-03T15:54:26.970564Z",
     "start_time": "2021-02-03T15:54:23.216520Z"
    }
   },
   "outputs": [],
   "source": [
    "import pandas as pd"
   ]
  },
  {
   "cell_type": "code",
   "execution_count": 25,
   "id": "isolated-journal",
   "metadata": {
    "ExecuteTime": {
     "end_time": "2021-02-03T16:10:09.794106Z",
     "start_time": "2021-02-03T16:10:09.787708Z"
    }
   },
   "outputs": [],
   "source": [
    "myText = open(\"/home/younesnd/Downloads/Tunizitxt.txt\",'w')"
   ]
  },
  {
   "cell_type": "code",
   "execution_count": 26,
   "id": "attempted-saskatchewan",
   "metadata": {
    "ExecuteTime": {
     "end_time": "2021-02-03T16:10:14.150205Z",
     "start_time": "2021-02-03T16:10:14.143910Z"
    }
   },
   "outputs": [
    {
     "data": {
      "text/plain": [
       "158897"
      ]
     },
     "execution_count": 26,
     "metadata": {},
     "output_type": "execute_result"
    }
   ],
   "source": [
    "myText.write(mystr)"
   ]
  },
  {
   "cell_type": "code",
   "execution_count": 16,
   "id": "olympic-affair",
   "metadata": {
    "ExecuteTime": {
     "end_time": "2021-02-03T16:04:43.241746Z",
     "start_time": "2021-02-03T16:04:43.235855Z"
    }
   },
   "outputs": [],
   "source": [
    "myText.close()"
   ]
  },
  {
   "cell_type": "code",
   "execution_count": 27,
   "id": "working-shelter",
   "metadata": {
    "ExecuteTime": {
     "end_time": "2021-02-03T16:20:48.246932Z",
     "start_time": "2021-02-03T16:20:48.112128Z"
    }
   },
   "outputs": [],
   "source": [
    "f = open('/home/younesnd/Downloads/last.txt', 'r')\n",
    "lines = f.readlines()\n",
    "mystr = '\\t'.join([line.strip() for line in lines])"
   ]
  },
  {
   "cell_type": "code",
   "execution_count": 28,
   "id": "historical-writing",
   "metadata": {
    "ExecuteTime": {
     "end_time": "2021-02-03T16:20:49.911304Z",
     "start_time": "2021-02-03T16:20:49.872135Z"
    }
   },
   "outputs": [],
   "source": [
    "mystr= mystr.replace(\"\\t\", \" \")"
   ]
  },
  {
   "cell_type": "code",
   "execution_count": 33,
   "id": "robust-sullivan",
   "metadata": {
    "ExecuteTime": {
     "end_time": "2021-02-03T16:21:34.098217Z",
     "start_time": "2021-02-03T16:21:34.071952Z"
    }
   },
   "outputs": [],
   "source": [
    "mystr= mystr.replace(\"hhhhhhhhhhhhhhhhhhhhhhhhhhhhhh\",\"\")"
   ]
  },
  {
   "cell_type": "code",
   "execution_count": 34,
   "id": "olive-richardson",
   "metadata": {
    "ExecuteTime": {
     "end_time": "2021-02-03T16:21:35.276244Z",
     "start_time": "2021-02-03T16:21:35.002407Z"
    }
   },
   "outputs": [
    {
     "data": {
      "text/plain": [
       "'text 0 3lach matsirech moudhahrat w twali 9adhiyet ra2i 3am w isir l i3dam 1 vive la tunise vive cpr 2 bravo hal moharjin ma3arfouch 9darhom mjenin kif z3imhom 3 7ata ana jebt 15 50 fi lbac 4 allah yerhem chouhedenene nous sommes tous des tunisiens 5 44k dislike hhh 6 3anna mochkel fi barlamene tounes sira3 chares bayna 7ezb abir moussi w 7ezb ennahda lemma zar kais saied l jaych tounsi w 9al mou2amarat tetdabbar mina eddakhel tounes w mou7awelt ettassalloul dakhel jaych tounes l 9asd abir moussi w 7ezbha ma 3andhomch l 9odra yetsallalou fi jaych tounes ennahda i7timel kabir kol a3mel ennahda ta7aloufet mou2amarat w in9ilabet w tazouir lil 7a9i9a w tezouir 3ou9oul ennes l ghaya houwa lintihaziya w solta fi tounes 3ala 7isseb massale7 echaab 7 oi bachar sabirin alathina itha asabthom mosobitan kalo anna lilh oi ana ilyhi raji3on rahima alh 8 dandouk miboun hhhhhhhh0 9 n importe quoi malade 10 tnaket elga3da 11 la casa del papel ettounsiaaa 12 che3b tounsi chetarhom jouhel yakrho el dine wa yestkhylou methemesh rabi 13 mais yelzemna nezrbou m3ach 3ana wa9th barcha 14 rjaa3 lmard llbleed 15 bravo sami wlh 5alit blastik ama tal3ou jma3it el hiwar ilkol i7ibouk barcha 16 wasel ya behy w rak jwk behy 3ale5er ya mli777 17 samehni chey yessaf 18 alah yar7mou w yna3mou s 19 barra neyek 20 aya hamdoullah 3likm 21 ommek ommek bouk bouk el benti betti w chouk chouk 22 allah yer7mo na3mou 23 bravo kafon musika bnina 24 leken eltawa ma9oltelna far5 chkoun 25 3ayech baba choufelna 7keyet el gazz 9bal souriya w 9bal kol chay 26 saddakni zed kbert fi nadherty w na3ref ekhtiarek s3iib ama fi maslaht il jami3 bravo khawla 27 inchallah ykounou erjel touwense elmo5elsine l el watan wecha3b elmeskine elli 93ad y3aani wte3eb 28 ana bsarha nitmana ca tarbah mantmanche lca traoih manjamche nfakar haka 29 chbik ma7lek haka sanfour 30 boul 3lehom fi zouz 31 mchitch tnayk 32 3awantna enta wala z3im kan fl klém ti liya 3am w ani nab3athlak fi msg w enta mtafi ma7soub mlakt flous 5rit fih mdr rabi akbar menak w a8na menak w chakwa lrabi ama flousak 3endi fiha 7a9 w bech na5dha kana taw wala fi lé5ra ya sera9 ya dhalem 33 hhhhhhhhhhhh ya walla wa7la nayak hhhhhhhh 34 oui 3ando ha9 sawt lmra 3awra ma3a l3ilm ana tofla 35 9ahba haifa bouli 36 patron slouma 37 chbih m2 chedhomch yit3achew w ybetou 38 bra nyek y a slim 39 bravoooo peace from kairouan 40 ta7ya lefri9i il ghaliya walah rana ma7dhoudhin kif jèna président kima slim riahi merci monsieur 41 akh tfeh 3lik modi3 monhat 42 saybo 3lina wtlftolna rana mawtna lfa9er drab fel l3dm rana t5ngna 43 degage ya tartour 44 hamdela 3lik 45 wellah lourd w dima l club 46 etelhana bel jam3ya echwaya rana fadena 47 ana m en awel vue j ai cru enou msawer fi libya w ya9ra ghadi aya 7assilou ken ya9ra fi tounes yatla3lek sandid w fehem e denya khir w yjareb lefsedd el kol 3ala bekri déjà tawa zatla w 7rebech w colle etc etc 3ala denya essalem 48 hhhhh mala 7keya ya7ki faha ti bara tlaha fi hamek 49 svp mer slim benarous 50 allah yarahmik ya sboui ili yheb sboui yhot jaime 51 ma yadfa3 ken ezzawali lo9ma sahlaaaaaaaa 52 hhhhh grave 53 rabi m3aak ya o5ti rabi kbiiir wlh 54 boubi sidou el beji 55 kifeh nkoulhelk men ghir me nouj3ek 56 vraiment tres touchent rebi kabir wa haninen rebi yachafik ya yama wa yakhalilek wadik li hab yadahi 3alik 57 lkolna m3ak viva lmo2tamar 58 fda7 fi 3endi halbarnamej ya 7asra ma3adech ifarej m3a 3aila mdam wlla fih pase par tout esma7 59 3leh 5sara ma3neha mafamech elila wentouma yézikom brabi 3amlin kakel mathal mtalè9ha w3ino 3léha tetfarjo wba3d 9al chnowa ma7a9ouch malla pfffffffffffffffffffffffffff 60 3arbiya recette te3 l5mira w me l ward s7i7a 61 belehi n7eb nas2el 3la salet chrif bel amin 7adhra ou pas encore 62 kebira rak mamestek nik omek el9ahba hhhhh 63 pour staut whatsapp marhba bikoum sur la page dyali 64 a7chem za7aaaa a7chem bara 5allsse dayoun nadiy w b3ed ija taw n7kiw fel be9iy 65 howa klemek s7i7 ama lezemna ne6fou bel 6awel mouch bel fe3le 66 hhhhh flous oredoo lmasrouga mecha3ab 7aj bihaa 67 slouma ya m3alem i5dem a7na m3ak chemeta fi ta7ana 68 sanfara 3sal 69 tant pis chihemek fih 5allih yanba7 kel kalb 70 houma sbay7iya wa7na jododna fallaga a7la ta7iya mn gafsa 71 leger 5lik t7eb w t7en 72 walhi chbeba lghneya 73 mdawretha mekla 74 to93ed dima fi 9lobna ou 9odret rabi tawa yodher el 7a9 75 men dz le meilleur klay 76 bravoooooo slouma 77 m3alem ya jenjoon 78 lli 3ajbto 7al9et lila ya3ml like 3 79 men hom li youkaffirou innes wmen awkela lahom bihedha 80 o5rjou entom men hal page lemas5a mte3 el lybi lemsa5 81 kol 3am wenti b1000 5ir 82 rabi m3akoum 83 wallahi moch ken yabda yetlhé b ma ahamm mch 5irr migalo behichi tawww lweh taw nsakkrou télé w radio 84 anehou l mathl f awled moufida ma araftush 85 hadha mouch sa7affi ye7ki b essem 7izeb ma3indhouch 7atta gramme 7yadiyia en plus bech toudher 79i9a bech twari ha sayed hadha 9adecho 7a9ir 86 kharjet mel 7iwar 87 el glaieb mafamech brabbi ya si slim nehhi alina ennes elli dakhla tenheb et ennas elli ma taarefech tetkallem kif el biaa imed 88 fakir mt3 sbo3i sl3a hhhh hhhhh hhhhh hhhh  89 1 vu djazair 90 miss tunisie la gadji 91 encore un coup de maître wa7dek ya slouma 92 nn ya slim rod belek tbadel modareb el koki weled ja3mia w ma5ser 7atta tora7 93 slim ka3ba la 94 m3alim houwa w 5lifa 95 sahel w3malnah tawa s3ib lazem na5dhou boutoula bidoun hazima wala ta3adel ntisarat ntisarat 96 allah yare7mou w ina3mou 97 tdima tekdheb 98 ya3tik sa7a si kathir min en el ness rabi yfadhlek limimtek inti mithel lil walid el bar rabi yjazik kol 5ir 99 to ya5ralha fih bara nik omou 100 erjouliya mass2ouliya mouch serwel w souriya 101 questo ragazzo è forte 102 belehi matetfakrou il batala wel chabeb kan fil inti5abet wenk ba3ed ma 5rajt mil linti5abet il lola chbik sakart birowetek il kol fi jihet il kol makamltch 5demt 103 ya5i brabi twanssa kol w ay wa7ed yched micro ma n7kiwech 3al aswat 5ali 3zaha skat kolha hiya ili san3et game w kolha taf3elll 104 rabi ifzdhlkom lib3adhkom 105 paladia hghhh 106 ahna m3ak slouma 107 vava hannibal une chanson une leçon hymne national des artistes reconnaissants bravo un grand salut 108 koul 3em wint 7ay b5er 109 bonne anniv president 110 netmana lik lmout kif temchi l8iri 111 brabbi teleha be machakilna w haderit bi3ane li kssourate fargha ech chekoun bech yecheri kessar ken yé ameriki yé israeli ma3neha ista3mar w bech temachina li falastine deux fik w yezik mil khayéle dhayik 112 dégage slim riahi 113 bravo 5ouya slim 114 lyod5el 4ààdi yô7ssél 115 rahom walfo dima yheboha kif el mordhe3 alah m3aek 116 ramdan mabruk 117 rabbi iwaf9ou 118 mella mehzla zero 3la zero 3la zero 3la zero 119 rabbi m3ak et bon courage 120 klem s7i7 w ma39oul nchalla yfi9ou 3la rwe7hom 121 galou beji galou ghanouchi galou hamami galou chebi galou galou koulhoun jaou lil koursi we bech yetma3chou min tounes illa slim riahi ja b afkar we roua jdida ltatwir tounes rajel mhaf we 3indou moukh ja bech yefid tounes we y3aoun echa3b ja bech ya3ti elkhir ltounes slim wasil ygoulou arkab 3al hadath ma yehmch les outres yarkbou 3ala hichakoum 122 hram wamchi fil lahram 123 nous somme avec vous king bravo 124 dhaher fih jadek ken ymarwa7 fi chyech l sidou bay nbara ya3tek 3asba fi zobek ya weld el ra9asa 125 bravo slim rana m3ak 126 sa7a wallah m3alem 5ir mel ta7ana elli 3adna 127 saadi officiel brabi brabi akra message privé aychekk je t adore 128 oui loun li habineh manbadlouhech may hemch chakl ama malwen matetmasech dc je préfére 129 allah yoltof b ikhwena ilibiyin w rabi yhananhom 3la b3adhom 130 dima wahdou fi kolle chayye 131 machallah 3liiik 132 bravo slouma wa7dek ya king masab enes lkol eli yada3ou el wataneya iijibouna mostathmrin 133 meghalo bravo bravo 134 bravou si sloma tbarkallh 3lik w inchallh dima 3la rais ca w el3a9ba llri2sa 135 alah yar7mek 136 be5ayer wesa7a 137 manoula ya 3asla ma7lak 138 vraiment ken 9rit français khir meli lehi bghirek ya bhim 139 3andi ena chmouwz eli 3maltou fibledi behi wemba3ed yar7em ravi fo enti5 abet ejeya 140 7ta tunis m3dch labec 3liha 141 c l art de mentir 142 j ai voté slim riahi 8 143 bandir ya bindiri bandir 144 jebha abed razzek chebi kbal miskinaa sarilha accident hiya w omhaa inchlh il marra hedhi titzahrilhaaa 145 jamoussa 9abih al 3abidine al fasside al mojrime la3nate lah 3alih 146 qatar w la france w l algerie balbaztha m3ahom inajmou na3rfou chnya newi 147 lkolna m3a slim 148 a7kilna 3a najar li 7cheh m3ak hhh 149 si marzouki a7na waktna fèt ama sgharna eli yejralhom fi kroumtek enti w nahdha w èna men taw nkolkom hasbona allah w ne3ma elwakil fikom 150 abonné 3aychkom 151 mabrouk l ca ya rab championall 152 chnawa si slim cha3maltelna fi rjou3 z dhawadi 153 ta7ki bjadek chniya l 5ra illi ta3mel fih 154 degage efhem rouhek t normalement ntardouk jimla men tounes 155 good luck sayidi ra2is rabbi yonsor il 7a9 3la ydik 156 achnouwa el7ala fel a7ade eriyadi 157 bayouta mahlek 158 mala ra7a ken el ham fi el beladdd 159 ta3mel akber mzeya raja3 alexice w fama 7alime daraji tfole mla3bi barch w saif 3akermi a3lah mayal3abech 160 m3alem ca foug ness el kol 161 bonne nuit papa 162 brvo slim ryahi 163 houta alik ya rais 164 oui sah yhabal 165 rabi yjazik nchlh 166 waktech bech tetlafet le chamel el garbi 167                                                             168 haw galou salafiyin habay wagtech 169 hhhhhhhhh 3 lotfi ahsen wehed fikom 170 n7ebouk yalboumaye 171 zapi radio ken meijbikech 172 nihibbou el boutoula 2016 17 173 bravooooo djabouuu 174 rabi ynawer elhak 175 bravo al khitab li kaddemtou 9oddem el un ye si el marzouki 176 valverdi ouut nik omek 177 le 3ad hakka khrou fih 178 sal con 179 bara nayak ya 5wanji ya masi5 180 nchalah rabi yachfiha waykon kayn ba3d drari yhabo yamahom kima howa 181 kadeh men7at sayef 182 bravo excellent travail continuez 183 sloumaaaa y m3allemmmm 184 hhhh marzouki ye bachoula hh 185 chkoun dkhal mechi fi belou gga kifi 186 wala yhemk a7na m3ak 187 la classe wahret prsident zeyddd 188 ken jew le9rouda 2thoukom chedin "
      ]
     },
     "execution_count": 34,
     "metadata": {},
     "output_type": "execute_result"
    },
    {
     "data": {
      "text/html": [
       "<b>limit_output extension: Maximum message size of 10000 exceeded with 8152612 characters</b>"
      ]
     },
     "metadata": {},
     "output_type": "display_data"
    }
   ],
   "source": [
    "mystr"
   ]
  },
  {
   "cell_type": "code",
   "execution_count": null,
   "id": "choice-evaluation",
   "metadata": {},
   "outputs": [],
   "source": [
    "data= pd.read_csv(r\"\")"
   ]
  },
  {
   "cell_type": "code",
   "execution_count": null,
   "id": "acquired-postage",
   "metadata": {},
   "outputs": [],
   "source": []
  }
 ],
 "metadata": {
  "kernelspec": {
   "display_name": "QAbert",
   "language": "python",
   "name": "qabert"
  },
  "language_info": {
   "codemirror_mode": {
    "name": "ipython",
    "version": 3
   },
   "file_extension": ".py",
   "mimetype": "text/x-python",
   "name": "python",
   "nbconvert_exporter": "python",
   "pygments_lexer": "ipython3",
   "version": "3.6.12"
  }
 },
 "nbformat": 4,
 "nbformat_minor": 5
}
